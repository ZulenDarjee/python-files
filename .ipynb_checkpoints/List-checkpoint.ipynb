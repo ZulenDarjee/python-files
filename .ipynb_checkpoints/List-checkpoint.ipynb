{
 "cells": [
  {
   "cell_type": "code",
   "execution_count": 11,
   "id": "0ab0c212",
   "metadata": {},
   "outputs": [],
   "source": [
    "##Lists"
   ]
  },
  {
   "cell_type": "code",
   "execution_count": 12,
   "id": "9e95c875",
   "metadata": {},
   "outputs": [],
   "source": [
    "my_list =[1,2,3,4,5,]"
   ]
  },
  {
   "cell_type": "code",
   "execution_count": 13,
   "id": "e058bac0",
   "metadata": {},
   "outputs": [
    {
     "data": {
      "text/plain": [
       "[1, 2, 3, 4, 5]"
      ]
     },
     "execution_count": 13,
     "metadata": {},
     "output_type": "execute_result"
    }
   ],
   "source": [
    "my_list"
   ]
  },
  {
   "cell_type": "code",
   "execution_count": 14,
   "id": "b9a4ee14",
   "metadata": {},
   "outputs": [],
   "source": [
    "mystring ='HELLO'"
   ]
  },
  {
   "cell_type": "code",
   "execution_count": 15,
   "id": "e994d5a0",
   "metadata": {},
   "outputs": [
    {
     "data": {
      "text/plain": [
       "['H', 'LLO']"
      ]
     },
     "execution_count": 15,
     "metadata": {},
     "output_type": "execute_result"
    }
   ],
   "source": [
    "mystring.split('E')"
   ]
  },
  {
   "cell_type": "code",
   "execution_count": 16,
   "id": "aac7241c",
   "metadata": {},
   "outputs": [
    {
     "data": {
      "text/plain": [
       "[1, 2, 3, 4, 5]"
      ]
     },
     "execution_count": 16,
     "metadata": {},
     "output_type": "execute_result"
    }
   ],
   "source": [
    "my_list"
   ]
  },
  {
   "cell_type": "code",
   "execution_count": 17,
   "id": "b483205f",
   "metadata": {},
   "outputs": [],
   "source": [
    "my_list =[1,'string',23.2]"
   ]
  },
  {
   "cell_type": "code",
   "execution_count": 18,
   "id": "286030a3",
   "metadata": {},
   "outputs": [
    {
     "data": {
      "text/plain": [
       "3"
      ]
     },
     "execution_count": 18,
     "metadata": {},
     "output_type": "execute_result"
    }
   ],
   "source": [
    "len(my_list)"
   ]
  },
  {
   "cell_type": "code",
   "execution_count": 19,
   "id": "37a79584",
   "metadata": {},
   "outputs": [
    {
     "data": {
      "text/plain": [
       "'string'"
      ]
     },
     "execution_count": 19,
     "metadata": {},
     "output_type": "execute_result"
    }
   ],
   "source": [
    "my_list[1] #indexing"
   ]
  },
  {
   "cell_type": "code",
   "execution_count": 20,
   "id": "2add551e",
   "metadata": {},
   "outputs": [
    {
     "data": {
      "text/plain": [
       "['string', 23.2]"
      ]
     },
     "execution_count": 20,
     "metadata": {},
     "output_type": "execute_result"
    }
   ],
   "source": [
    "my_list[1:]"
   ]
  },
  {
   "cell_type": "code",
   "execution_count": 21,
   "id": "ad252b94",
   "metadata": {},
   "outputs": [
    {
     "data": {
      "text/plain": [
       "[1, 'string', 23.2]"
      ]
     },
     "execution_count": 21,
     "metadata": {},
     "output_type": "execute_result"
    }
   ],
   "source": [
    "my_list"
   ]
  },
  {
   "cell_type": "code",
   "execution_count": 22,
   "id": "8d612db8",
   "metadata": {},
   "outputs": [
    {
     "data": {
      "text/plain": [
       "[1, 'string']"
      ]
     },
     "execution_count": 22,
     "metadata": {},
     "output_type": "execute_result"
    }
   ],
   "source": [
    "my_list[0:2]"
   ]
  },
  {
   "cell_type": "code",
   "execution_count": 23,
   "id": "6e795954",
   "metadata": {},
   "outputs": [
    {
     "data": {
      "text/plain": [
       "[1, 'string', 23.2]"
      ]
     },
     "execution_count": 23,
     "metadata": {},
     "output_type": "execute_result"
    }
   ],
   "source": [
    "my_list"
   ]
  },
  {
   "cell_type": "code",
   "execution_count": 24,
   "id": "f0b1420c",
   "metadata": {},
   "outputs": [],
   "source": [
    "second_list =[4,5,'six']"
   ]
  },
  {
   "cell_type": "code",
   "execution_count": 25,
   "id": "e1a24e44",
   "metadata": {},
   "outputs": [],
   "source": [
    "new_list =my_list + second_list"
   ]
  },
  {
   "cell_type": "code",
   "execution_count": 26,
   "id": "f0590657",
   "metadata": {},
   "outputs": [
    {
     "data": {
      "text/plain": [
       "[1, 'string', 23.2, 4, 5, 'six']"
      ]
     },
     "execution_count": 26,
     "metadata": {},
     "output_type": "execute_result"
    }
   ],
   "source": [
    "new_list"
   ]
  },
  {
   "cell_type": "code",
   "execution_count": 27,
   "id": "04accbb8",
   "metadata": {},
   "outputs": [
    {
     "data": {
      "text/plain": [
       "[4, 5, 'six']"
      ]
     },
     "execution_count": 27,
     "metadata": {},
     "output_type": "execute_result"
    }
   ],
   "source": [
    "second_list"
   ]
  },
  {
   "cell_type": "code",
   "execution_count": 28,
   "id": "0035485c",
   "metadata": {},
   "outputs": [],
   "source": [
    "second_list[0] = 'changed'"
   ]
  },
  {
   "cell_type": "code",
   "execution_count": 29,
   "id": "5ca9dc6f",
   "metadata": {},
   "outputs": [
    {
     "data": {
      "text/plain": [
       "['changed', 5, 'six']"
      ]
     },
     "execution_count": 29,
     "metadata": {},
     "output_type": "execute_result"
    }
   ],
   "source": [
    "second_list"
   ]
  },
  {
   "cell_type": "code",
   "execution_count": 30,
   "id": "38d62af0",
   "metadata": {},
   "outputs": [],
   "source": [
    "mstring = 'HELLO'"
   ]
  },
  {
   "cell_type": "code",
   "execution_count": 31,
   "id": "dc76c6a7",
   "metadata": {},
   "outputs": [
    {
     "data": {
      "text/plain": [
       "'H'"
      ]
     },
     "execution_count": 31,
     "metadata": {},
     "output_type": "execute_result"
    }
   ],
   "source": [
    "mstring[0]"
   ]
  },
  {
   "cell_type": "code",
   "execution_count": 32,
   "id": "63c82315",
   "metadata": {},
   "outputs": [
    {
     "ename": "TypeError",
     "evalue": "'str' object does not support item assignment",
     "output_type": "error",
     "traceback": [
      "\u001b[1;31m---------------------------------------------------------------------------\u001b[0m",
      "\u001b[1;31mTypeError\u001b[0m                                 Traceback (most recent call last)",
      "Input \u001b[1;32mIn [32]\u001b[0m, in \u001b[0;36m<cell line: 1>\u001b[1;34m()\u001b[0m\n\u001b[1;32m----> 1\u001b[0m mstring[\u001b[38;5;241m0\u001b[39m] \u001b[38;5;241m=\u001b[39m \u001b[38;5;124m'\u001b[39m\u001b[38;5;124mp\u001b[39m\u001b[38;5;124m'\u001b[39m\n",
      "\u001b[1;31mTypeError\u001b[0m: 'str' object does not support item assignment"
     ]
    }
   ],
   "source": [
    "mstring[0] = 'p'"
   ]
  },
  {
   "cell_type": "code",
   "execution_count": null,
   "id": "b4e3b925",
   "metadata": {},
   "outputs": [],
   "source": [
    "newstring = mstring[1:]"
   ]
  },
  {
   "cell_type": "code",
   "execution_count": null,
   "id": "03ab37a0",
   "metadata": {},
   "outputs": [],
   "source": [
    "newstring"
   ]
  },
  {
   "cell_type": "code",
   "execution_count": null,
   "id": "602b7991",
   "metadata": {},
   "outputs": [],
   "source": [
    "new_word = 'P' + newstring"
   ]
  },
  {
   "cell_type": "code",
   "execution_count": null,
   "id": "b36c93cb",
   "metadata": {},
   "outputs": [],
   "source": [
    "new_word"
   ]
  },
  {
   "cell_type": "code",
   "execution_count": null,
   "id": "78ba6b70",
   "metadata": {},
   "outputs": [],
   "source": [
    "second_list"
   ]
  },
  {
   "cell_type": "code",
   "execution_count": null,
   "id": "1bd11da9",
   "metadata": {},
   "outputs": [],
   "source": [
    "second_list.append('seven')"
   ]
  },
  {
   "cell_type": "code",
   "execution_count": null,
   "id": "02546295",
   "metadata": {},
   "outputs": [],
   "source": [
    "second_list"
   ]
  },
  {
   "cell_type": "code",
   "execution_count": null,
   "id": "275aeb00",
   "metadata": {},
   "outputs": [],
   "source": [
    "second_list.pop(2)"
   ]
  },
  {
   "cell_type": "code",
   "execution_count": null,
   "id": "b30a624c",
   "metadata": {},
   "outputs": [],
   "source": [
    "second_list"
   ]
  },
  {
   "cell_type": "code",
   "execution_count": null,
   "id": "421988d1",
   "metadata": {},
   "outputs": [],
   "source": [
    "new_list =[2,3,'hi',4,5]"
   ]
  },
  {
   "cell_type": "code",
   "execution_count": null,
   "id": "11b6761a",
   "metadata": {},
   "outputs": [],
   "source": [
    "new_list[-1]"
   ]
  },
  {
   "cell_type": "code",
   "execution_count": null,
   "id": "fa64fe7c",
   "metadata": {},
   "outputs": [],
   "source": [
    "new_list =['a','b','c','z','b']\n",
    "num_list = [5,7,1,2,8]"
   ]
  },
  {
   "cell_type": "code",
   "execution_count": null,
   "id": "34007046",
   "metadata": {},
   "outputs": [],
   "source": [
    "num_list.sort()"
   ]
  },
  {
   "cell_type": "code",
   "execution_count": null,
   "id": "71bdf876",
   "metadata": {},
   "outputs": [],
   "source": [
    "sorted_list = num_list"
   ]
  },
  {
   "cell_type": "code",
   "execution_count": null,
   "id": "aa7e1607",
   "metadata": {},
   "outputs": [],
   "source": [
    "sorted_list"
   ]
  },
  {
   "cell_type": "code",
   "execution_count": null,
   "id": "1acddf50",
   "metadata": {},
   "outputs": [],
   "source": [
    "new_list.reverse()"
   ]
  },
  {
   "cell_type": "code",
   "execution_count": null,
   "id": "3b5ee47b",
   "metadata": {},
   "outputs": [],
   "source": [
    "reversed_list = new_list"
   ]
  },
  {
   "cell_type": "code",
   "execution_count": null,
   "id": "fd2f2ef1",
   "metadata": {},
   "outputs": [],
   "source": [
    "reversed_list"
   ]
  },
  {
   "cell_type": "code",
   "execution_count": null,
   "id": "2b20e8bc",
   "metadata": {},
   "outputs": [],
   "source": [
    "b = None"
   ]
  },
  {
   "cell_type": "code",
   "execution_count": null,
   "id": "b750ad74",
   "metadata": {},
   "outputs": [],
   "source": [
    "my_list=[5,1,[1,2]]"
   ]
  },
  {
   "cell_type": "code",
   "execution_count": null,
   "id": "3a33fab9",
   "metadata": {},
   "outputs": [],
   "source": [
    "my_list"
   ]
  },
  {
   "cell_type": "code",
   "execution_count": 33,
   "id": "27594388",
   "metadata": {},
   "outputs": [
    {
     "data": {
      "text/plain": [
       "1"
      ]
     },
     "execution_count": 33,
     "metadata": {},
     "output_type": "execute_result"
    }
   ],
   "source": [
    "my_list[0]"
   ]
  },
  {
   "cell_type": "code",
   "execution_count": null,
   "id": "e1fff7a4",
   "metadata": {},
   "outputs": [],
   "source": []
  }
 ],
 "metadata": {
  "kernelspec": {
   "display_name": "Python 3 (ipykernel)",
   "language": "python",
   "name": "python3"
  },
  "language_info": {
   "codemirror_mode": {
    "name": "ipython",
    "version": 3
   },
   "file_extension": ".py",
   "mimetype": "text/x-python",
   "name": "python",
   "nbconvert_exporter": "python",
   "pygments_lexer": "ipython3",
   "version": "3.9.12"
  }
 },
 "nbformat": 4,
 "nbformat_minor": 5
}
